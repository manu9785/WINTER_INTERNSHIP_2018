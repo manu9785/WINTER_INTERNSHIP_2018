{
 "cells": [
  {
   "cell_type": "raw",
   "metadata": {},
   "source": [
    "1. Which year was the updated versions of Python 2.0 and 3.0 released? \n",
    "a. 1990 and 1994 \n",
    "b. 2000 and 2008 \n",
    "c. 1989 and 1990 \n",
    "d. 2001 and 2002  "
   ]
  },
  {
   "cell_type": "raw",
   "metadata": {},
   "source": [
    "2. Print built-in function was introduced in version ?\n",
    "a. 2 \n",
    "b. 1 \n",
    "c. 2.6 \n",
    "d. 3 "
   ]
  },
  {
   "cell_type": "raw",
   "metadata": {},
   "source": [
    "3. What toolkit is used to code in IDLE?\n",
    "a. PHP text editor \n",
    "b. Soap toolkit \n",
    "c. Swing toolkit \n",
    "d. Tkinter GUI toolkit "
   ]
  },
  {
   "cell_type": "raw",
   "metadata": {},
   "source": [
    "4. Which layer acts as a layer of logic between the hardware and the code? \n",
    "a. library modules \n",
    "b. binary files \n",
    "c. machine language \n",
    "d. Python interpreter \n"
   ]
  },
  {
   "cell_type": "raw",
   "metadata": {},
   "source": [
    "5. What is the structure generated after the Python source code is compiled?\n",
    "a. .ini \n",
    "b. .pyc \n",
    "c. exe file \n",
    "d. .bin "
   ]
  },
  {
   "cell_type": "raw",
   "metadata": {},
   "source": [
    "6. What does CPython and Jython represent?  \n",
    "a. They represent the successive versions of Python. \n",
    "b. They represent internal functions of Python. \n",
    "c. Implementations of Python \n",
    "d. They are the compilers of Python program.  "
   ]
  },
  {
   "cell_type": "raw",
   "metadata": {},
   "source": [
    "7. What kind of executables generate a standalone binary executable?  \n",
    "a. Frozen binaries \n",
    "b. Pyhton.NET \n",
    "c. CPyhton \n",
    "d. byte codes "
   ]
  },
  {
   "cell_type": "raw",
   "metadata": {},
   "source": [
    "8. What are environment variables?"
   ]
  },
  {
   "cell_type": "raw",
   "metadata": {},
   "source": [
    "9. Why do we set path ? "
   ]
  },
  {
   "cell_type": "raw",
   "metadata": {},
   "source": [
    "10. What is the default location of Python installation? \n",
    "a. C:\\ \n",
    "b. D:\\ \n",
    "c. G:\\ \n",
    "d. E:\\  "
   ]
  },
  {
   "cell_type": "raw",
   "metadata": {},
   "source": [
    "11. How do you go to the command line Pyhton interpreter?  \n",
    "a. From Start, select Pyhton 3.6 and click to open. \n",
    "b. Select the Python command line directly from the exe file. \n",
    "c. Type cmd Python from the command line in Windows. \n",
    "d. In Windows, select Python from the installed programs.  "
   ]
  },
  {
   "cell_type": "raw",
   "metadata": {},
   "source": [
    "12. Name few components of IDLE  \n",
    "a. Wordpad \n",
    "b. code editor, built-in automation \n",
    "c. Project tracker \n",
    "d. bug tracker   "
   ]
  },
  {
   "cell_type": "raw",
   "metadata": {},
   "source": [
    "13. Name few of the features of IDLE  \n",
    "a. user interface window \n",
    "b. command line entries \n",
    "c. debugging and configuration \n",
    "d. built-in print option   "
   ]
  },
  {
   "cell_type": "raw",
   "metadata": {},
   "source": [
    "14. Where is the output from running a saved Python file is displayed? \n",
    "a. Command prompt \n",
    "b. Browser \n",
    "c. Shell window \n",
    "d. Desktop   "
   ]
  },
  {
   "cell_type": "raw",
   "metadata": {},
   "source": [
    "15. What are the two types of windows available in Python IDLE?  \n",
    "a. PHP and Microsoft \n",
    "b. Shell and Editor  "
   ]
  },
  {
   "cell_type": "code",
   "execution_count": null,
   "metadata": {},
   "outputs": [],
   "source": []
  }
 ],
 "metadata": {
  "kernelspec": {
   "display_name": "Python 3",
   "language": "python",
   "name": "python3"
  },
  "language_info": {
   "codemirror_mode": {
    "name": "ipython",
    "version": 3
   },
   "file_extension": ".py",
   "mimetype": "text/x-python",
   "name": "python",
   "nbconvert_exporter": "python",
   "pygments_lexer": "ipython3",
   "version": "3.7.0"
  }
 },
 "nbformat": 4,
 "nbformat_minor": 2
}
