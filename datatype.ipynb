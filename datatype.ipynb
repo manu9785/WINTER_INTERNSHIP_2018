{
 "cells": [
  {
   "cell_type": "code",
   "execution_count": 3,
   "metadata": {},
   "outputs": [
    {
     "name": "stdout",
     "output_type": "stream",
     "text": [
      "SHE okIS okA okSABBOTAGEok.\n"
     ]
    }
   ],
   "source": [
    "print(\"SHE \",\"IS \",\"A \",\"SABBOTAGE\",\".\",sep='ok')"
   ]
  },
  {
   "cell_type": "code",
   "execution_count": 4,
   "metadata": {},
   "outputs": [
    {
     "ename": "SyntaxError",
     "evalue": "unexpected EOF while parsing (<ipython-input-4-bd2842fad95a>, line 2)",
     "output_type": "error",
     "traceback": [
      "\u001b[1;36m  File \u001b[1;32m\"<ipython-input-4-bd2842fad95a>\"\u001b[1;36m, line \u001b[1;32m2\u001b[0m\n\u001b[1;33m    \u001b[0m\n\u001b[1;37m    ^\u001b[0m\n\u001b[1;31mSyntaxError\u001b[0m\u001b[1;31m:\u001b[0m unexpected EOF while parsing\n"
     ]
    }
   ],
   "source": [
    "for var in range(10) :\n",
    "    "
   ]
  },
  {
   "cell_type": "code",
   "execution_count": 12,
   "metadata": {},
   "outputs": [],
   "source": [
    "f=open('c:/users/dell/desktop/print.txt','a')\n",
    "print(\"ccccccccccccccccc0\",file=f)\n",
    "print(\"ccccccccccccccccc0\",file=f)"
   ]
  },
  {
   "cell_type": "code",
   "execution_count": 13,
   "metadata": {},
   "outputs": [],
   "source": [
    "f.close()"
   ]
  },
  {
   "cell_type": "code",
   "execution_count": 14,
   "metadata": {},
   "outputs": [
    {
     "name": "stdout",
     "output_type": "stream",
     "text": [
      "ccccccccccccccccc0\n",
      "ccccccccccccccccc0\n"
     ]
    }
   ],
   "source": [
    "import time\n",
    "print(\"ccccccccccccccccc0\")\n",
    "time.sleep(3)\n",
    "print(\"ccccccccccccccccc0\")\n"
   ]
  },
  {
   "cell_type": "code",
   "execution_count": 15,
   "metadata": {},
   "outputs": [
    {
     "name": "stdout",
     "output_type": "stream",
     "text": [
      "ccccccccccccccccc0\n",
      "ccccccccccccccccc0\n",
      "ccccccccccccccccc0\n",
      "ccccccccccccccccc0\n",
      "ccccccccccccccccc0\n",
      "ccccccccccccccccc0\n",
      "ccccccccccccccccc0\n",
      "ccccccccccccccccc0\n",
      "\n",
      "'ccccccccccccccccc0\\nccccccccccccccccc0\\nccccccccccccccccc0\\nccccccccccccccccc0\\nccccccccccccccccc0\\nccccccccccccccccc0\\nccccccccccccccccc0\\nccccccccccccccccc0\\n'\n"
     ]
    }
   ],
   "source": [
    "with open('c:/users/dell/desktop/print.txt') as fp :\n",
    "    data = fp.read()\n",
    "    \n",
    "print(data)\n",
    "print(repr(data))"
   ]
  },
  {
   "cell_type": "code",
   "execution_count": null,
   "metadata": {},
   "outputs": [],
   "source": []
  }
 ],
 "metadata": {
  "kernelspec": {
   "display_name": "Python 3",
   "language": "python",
   "name": "python3"
  },
  "language_info": {
   "codemirror_mode": {
    "name": "ipython",
    "version": 3
   },
   "file_extension": ".py",
   "mimetype": "text/x-python",
   "name": "python",
   "nbconvert_exporter": "python",
   "pygments_lexer": "ipython3",
   "version": "3.7.0"
  }
 },
 "nbformat": 4,
 "nbformat_minor": 2
}
